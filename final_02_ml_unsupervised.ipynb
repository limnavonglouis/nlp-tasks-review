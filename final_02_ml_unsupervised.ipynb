{
 "cells": [
  {
   "cell_type": "markdown",
   "metadata": {},
   "source": [
    "# General imports."
   ]
  },
  {
   "cell_type": "code",
   "execution_count": 1,
   "metadata": {},
   "outputs": [],
   "source": [
    "import pandas as pd, numpy as np\n",
    "from langdetect import detect \n",
    "\n",
    "pd.options.display.max_colwidth = 200"
   ]
  },
  {
   "cell_type": "markdown",
   "metadata": {},
   "source": [
    "# Data."
   ]
  },
  {
   "cell_type": "code",
   "execution_count": 2,
   "metadata": {},
   "outputs": [
    {
     "data": {
      "text/html": [
       "<div>\n",
       "<style scoped>\n",
       "    .dataframe tbody tr th:only-of-type {\n",
       "        vertical-align: middle;\n",
       "    }\n",
       "\n",
       "    .dataframe tbody tr th {\n",
       "        vertical-align: top;\n",
       "    }\n",
       "\n",
       "    .dataframe thead th {\n",
       "        text-align: right;\n",
       "    }\n",
       "</style>\n",
       "<table border=\"1\" class=\"dataframe\">\n",
       "  <thead>\n",
       "    <tr style=\"text-align: right;\">\n",
       "      <th></th>\n",
       "      <th>screenName</th>\n",
       "      <th>bio</th>\n",
       "    </tr>\n",
       "  </thead>\n",
       "  <tbody>\n",
       "    <tr>\n",
       "      <th>0</th>\n",
       "      <td>AirAsia</td>\n",
       "      <td>Welcome to our official Twitter account where we tweet exclusive updates, contests &amp; our low fares. For Customer Support, kindly tweet @AirAsiaSupport</td>\n",
       "    </tr>\n",
       "    <tr>\n",
       "      <th>1</th>\n",
       "      <td>JamesCarville</td>\n",
       "      <td>Political strategist. Ragin’ Cajun. Father of two. Louisiana Dem. Gulf Coaster.</td>\n",
       "    </tr>\n",
       "  </tbody>\n",
       "</table>\n",
       "</div>"
      ],
      "text/plain": [
       "      screenName  \\\n",
       "0        AirAsia   \n",
       "1  JamesCarville   \n",
       "\n",
       "                                                                                                                                                      bio  \n",
       "0  Welcome to our official Twitter account where we tweet exclusive updates, contests & our low fares. For Customer Support, kindly tweet @AirAsiaSupport  \n",
       "1                                                                         Political strategist. Ragin’ Cajun. Father of two. Louisiana Dem. Gulf Coaster.  "
      ]
     },
     "execution_count": 2,
     "metadata": {},
     "output_type": "execute_result"
    }
   ],
   "source": [
    "df = pd.read_csv('data/final_palantir_following.csv')\n",
    "del df['Unnamed: 0']\n",
    "df.head(2)"
   ]
  },
  {
   "cell_type": "code",
   "execution_count": 3,
   "metadata": {},
   "outputs": [
    {
     "data": {
      "text/plain": [
       "(20, 2)"
      ]
     },
     "execution_count": 3,
     "metadata": {},
     "output_type": "execute_result"
    }
   ],
   "source": [
    "df.shape"
   ]
  },
  {
   "cell_type": "code",
   "execution_count": 46,
   "metadata": {},
   "outputs": [
    {
     "data": {
      "text/html": [
       "<div>\n",
       "<style scoped>\n",
       "    .dataframe tbody tr th:only-of-type {\n",
       "        vertical-align: middle;\n",
       "    }\n",
       "\n",
       "    .dataframe tbody tr th {\n",
       "        vertical-align: top;\n",
       "    }\n",
       "\n",
       "    .dataframe thead th {\n",
       "        text-align: right;\n",
       "    }\n",
       "</style>\n",
       "<table border=\"1\" class=\"dataframe\">\n",
       "  <thead>\n",
       "    <tr style=\"text-align: right;\">\n",
       "      <th></th>\n",
       "      <th>screenName</th>\n",
       "      <th>bio</th>\n",
       "      <th>clean_text</th>\n",
       "    </tr>\n",
       "  </thead>\n",
       "  <tbody>\n",
       "    <tr>\n",
       "      <th>0</th>\n",
       "      <td>AirAsia</td>\n",
       "      <td>Welcome to our official Twitter account where we tweet exclusive updates, contests &amp; our low fares. For Customer Support, kindly tweet @AirAsiaSupport</td>\n",
       "      <td>welcom offici twitter account tweet exclus updat contest low fare custom support kind tweet airasiasupport</td>\n",
       "    </tr>\n",
       "    <tr>\n",
       "      <th>1</th>\n",
       "      <td>JamesCarville</td>\n",
       "      <td>Political strategist. Ragin’ Cajun. Father of two. Louisiana Dem. Gulf Coaster.</td>\n",
       "      <td>polit strategist ragin cajun father two louisiana dem gulf coaster</td>\n",
       "    </tr>\n",
       "    <tr>\n",
       "      <th>2</th>\n",
       "      <td>Ferrari</td>\n",
       "      <td>Official account of #Ferrari, \\nItalian Excellence that makes the world dream.</td>\n",
       "      <td>offici account ferrari italian excel make world dream</td>\n",
       "    </tr>\n",
       "    <tr>\n",
       "      <th>3</th>\n",
       "      <td>AUSTRAC</td>\n",
       "      <td>Official account for AUSTRAC, Australia's financial intelligence agency. For more info or to contact us, please visit our website.</td>\n",
       "      <td>offici account austrac australia s financi intellig agenc info contact us pleas visit websit</td>\n",
       "    </tr>\n",
       "    <tr>\n",
       "      <th>4</th>\n",
       "      <td>fcagroup</td>\n",
       "      <td>Welcome to the official Fiat Chrysler Automobiles account. #fiatchrysler #fcagroup</td>\n",
       "      <td>welcom offici fiat chrysler automobil account fiatchrysl fcagroup</td>\n",
       "    </tr>\n",
       "    <tr>\n",
       "      <th>5</th>\n",
       "      <td>CreditSuisse</td>\n",
       "      <td>Credit Suisse is a leading wealth manager, with strong investment banking capabilities. Also follow us on @csapac and @csschweiz</td>\n",
       "      <td>credit suiss lead wealth manag strong invest bank capabl also follow us csapac csschweiz</td>\n",
       "    </tr>\n",
       "    <tr>\n",
       "      <th>6</th>\n",
       "      <td>merckgroup</td>\n",
       "      <td>A leading science and technology company in healthcare, life science, performance materials. Not intended for US&amp;CA visitors. https://t.co/wh24XCVhmE</td>\n",
       "      <td>lead scienc technolog compani healthcar life scienc perform materi intend us ca visitor https t co wh xcvhme</td>\n",
       "    </tr>\n",
       "    <tr>\n",
       "      <th>7</th>\n",
       "      <td>Airbus</td>\n",
       "      <td>Live updates from the people that build the world's best planes and pioneer the future of aerospace. #WeMakeItFly ✈️</td>\n",
       "      <td>live updat peopl build world s best plane pioneer futur aerospac wemakeitfli</td>\n",
       "    </tr>\n",
       "    <tr>\n",
       "      <th>8</th>\n",
       "      <td>futureofprivacy</td>\n",
       "      <td>A catalyst for #privacy leadership &amp; scholarship, advancing principled data practices in support of emerging #tech. Get updates: https://t.co/P9PvpEAnfJ</td>\n",
       "      <td>catalyst privaci leadership scholarship advanc principl data practic support emerg tech get updat https t co p pvpeanfj</td>\n",
       "    </tr>\n",
       "    <tr>\n",
       "      <th>9</th>\n",
       "      <td>JulesPolonetsky</td>\n",
       "      <td>CEO @futureofprivacy, Co-Chair @ILTechPolicy, won't speak on all male panels.</td>\n",
       "      <td>ceo futureofprivaci co chair iltechpolici won t speak male panel</td>\n",
       "    </tr>\n",
       "    <tr>\n",
       "      <th>10</th>\n",
       "      <td>CenDemTech</td>\n",
       "      <td>The Center for Democracy &amp; Technology.   Shaping tech policy &amp; architecture, with a focus on the rights of the individual. @CDTEU for our EU-based team.</td>\n",
       "      <td>center democraci technolog shape tech polici architectur focus right individu cdteu eu base team</td>\n",
       "    </tr>\n",
       "    <tr>\n",
       "      <th>11</th>\n",
       "      <td>DirectRelief</td>\n",
       "      <td>Mission: Improve the health and lives of people affected by poverty or emergencies without regard to politics, religion, or ability to pay.</td>\n",
       "      <td>mission improv health live peopl affect poverti emerg without regard polit religion abil pay</td>\n",
       "    </tr>\n",
       "    <tr>\n",
       "      <th>12</th>\n",
       "      <td>kncukier</td>\n",
       "      <td>The Economist's Senior Editor. Coauthor of bestseller \"Big Data\". Board director at https://t.co/gE85O4kDEU and https://t.co/uSSaPIzEH0 Fellow at @OxfordSBS</td>\n",
       "      <td>economist s senior editor coauthor bestsel big data board director https t co ge o kdeu https t co ussapizeh fellow oxfordsb</td>\n",
       "    </tr>\n",
       "    <tr>\n",
       "      <th>13</th>\n",
       "      <td>valleyhack</td>\n",
       "      <td>Author of best seller on Elon Musk - https://t.co/ECPVUpFp90. Writer for Businessweek. Host of Hello World. https://t.co/5cDJBYlj0Z Former scribe for NYT.</td>\n",
       "      <td>author best seller elon musk https t co ecpvupfp writer businessweek host hello world https t co cdjbylj z former scribe nyt</td>\n",
       "    </tr>\n",
       "    <tr>\n",
       "      <th>14</th>\n",
       "      <td>codeforamerica</td>\n",
       "      <td>Government can work for the people, by the people, in the 21st century. Help us make it so.</td>\n",
       "      <td>govern can work peopl peopl st centuri help us make</td>\n",
       "    </tr>\n",
       "    <tr>\n",
       "      <th>15</th>\n",
       "      <td>radar</td>\n",
       "      <td>O'Reilly Media's group blog about emerging technologies. Twitter feed managed by @JennWebb.</td>\n",
       "      <td>o reilli media s group blog emerg technolog twitter feed manag jennwebb</td>\n",
       "    </tr>\n",
       "    <tr>\n",
       "      <th>16</th>\n",
       "      <td>acroll</td>\n",
       "      <td>Thinking about the intersection of tech &amp; society. Once Extremely Online. @Strataconf @Startupfest https://t.co/nvU6C9c7Il @leananalytics @fwd50conf @scaletechconf</td>\n",
       "      <td>think intersect tech societi extrem onlin strataconf startupfest https t co nvu c c il leananalyt fwd conf scaletechconf</td>\n",
       "    </tr>\n",
       "    <tr>\n",
       "      <th>17</th>\n",
       "      <td>thejointstaff</td>\n",
       "      <td>The official account for news on the #JointForce, #GenDunford, #GenSelva and Joint Staff services. (Following, RTs and links ≠ endorsement by @DeptofDefense)</td>\n",
       "      <td>offici account news jointforc gendunford genselva joint staff servic follow rts link endors deptofdefens</td>\n",
       "    </tr>\n",
       "    <tr>\n",
       "      <th>18</th>\n",
       "      <td>TeamRubicon</td>\n",
       "      <td>Team Rubicon unites the skills and experiences of military veterans with first responders to rapidly deploy emergency response teams.</td>\n",
       "      <td>team rubicon unit skill experi militari veteran first respond rapid deploy emerg respons team</td>\n",
       "    </tr>\n",
       "    <tr>\n",
       "      <th>19</th>\n",
       "      <td>hackingdata</td>\n",
       "      <td>@techammer @hammer_lab @cloudera</td>\n",
       "      <td>techamm hammer lab cloudera</td>\n",
       "    </tr>\n",
       "  </tbody>\n",
       "</table>\n",
       "</div>"
      ],
      "text/plain": [
       "         screenName  \\\n",
       "0           AirAsia   \n",
       "1     JamesCarville   \n",
       "2           Ferrari   \n",
       "3           AUSTRAC   \n",
       "4          fcagroup   \n",
       "5      CreditSuisse   \n",
       "6        merckgroup   \n",
       "7            Airbus   \n",
       "8   futureofprivacy   \n",
       "9   JulesPolonetsky   \n",
       "10       CenDemTech   \n",
       "11     DirectRelief   \n",
       "12         kncukier   \n",
       "13       valleyhack   \n",
       "14   codeforamerica   \n",
       "15            radar   \n",
       "16           acroll   \n",
       "17    thejointstaff   \n",
       "18      TeamRubicon   \n",
       "19      hackingdata   \n",
       "\n",
       "                                                                                                                                                                    bio  \\\n",
       "0                Welcome to our official Twitter account where we tweet exclusive updates, contests & our low fares. For Customer Support, kindly tweet @AirAsiaSupport   \n",
       "1                                                                                       Political strategist. Ragin’ Cajun. Father of two. Louisiana Dem. Gulf Coaster.   \n",
       "2                                                                                        Official account of #Ferrari, \\nItalian Excellence that makes the world dream.   \n",
       "3                                    Official account for AUSTRAC, Australia's financial intelligence agency. For more info or to contact us, please visit our website.   \n",
       "4                                                                                    Welcome to the official Fiat Chrysler Automobiles account. #fiatchrysler #fcagroup   \n",
       "5                                      Credit Suisse is a leading wealth manager, with strong investment banking capabilities. Also follow us on @csapac and @csschweiz   \n",
       "6                 A leading science and technology company in healthcare, life science, performance materials. Not intended for US&CA visitors. https://t.co/wh24XCVhmE   \n",
       "7                                                  Live updates from the people that build the world's best planes and pioneer the future of aerospace. #WeMakeItFly ✈️   \n",
       "8              A catalyst for #privacy leadership & scholarship, advancing principled data practices in support of emerging #tech. Get updates: https://t.co/P9PvpEAnfJ   \n",
       "9                                                                                         CEO @futureofprivacy, Co-Chair @ILTechPolicy, won't speak on all male panels.   \n",
       "10             The Center for Democracy & Technology.   Shaping tech policy & architecture, with a focus on the rights of the individual. @CDTEU for our EU-based team.   \n",
       "11                          Mission: Improve the health and lives of people affected by poverty or emergencies without regard to politics, religion, or ability to pay.   \n",
       "12         The Economist's Senior Editor. Coauthor of bestseller \"Big Data\". Board director at https://t.co/gE85O4kDEU and https://t.co/uSSaPIzEH0 Fellow at @OxfordSBS   \n",
       "13           Author of best seller on Elon Musk - https://t.co/ECPVUpFp90. Writer for Businessweek. Host of Hello World. https://t.co/5cDJBYlj0Z Former scribe for NYT.   \n",
       "14                                                                          Government can work for the people, by the people, in the 21st century. Help us make it so.   \n",
       "15                                                                          O'Reilly Media's group blog about emerging technologies. Twitter feed managed by @JennWebb.   \n",
       "16  Thinking about the intersection of tech & society. Once Extremely Online. @Strataconf @Startupfest https://t.co/nvU6C9c7Il @leananalytics @fwd50conf @scaletechconf   \n",
       "17        The official account for news on the #JointForce, #GenDunford, #GenSelva and Joint Staff services. (Following, RTs and links ≠ endorsement by @DeptofDefense)   \n",
       "18                                Team Rubicon unites the skills and experiences of military veterans with first responders to rapidly deploy emergency response teams.   \n",
       "19                                                                                                                                     @techammer @hammer_lab @cloudera   \n",
       "\n",
       "                                                                                                                      clean_text  \n",
       "0                     welcom offici twitter account tweet exclus updat contest low fare custom support kind tweet airasiasupport  \n",
       "1                                                             polit strategist ragin cajun father two louisiana dem gulf coaster  \n",
       "2                                                                          offici account ferrari italian excel make world dream  \n",
       "3                                   offici account austrac australia s financi intellig agenc info contact us pleas visit websit  \n",
       "4                                                              welcom offici fiat chrysler automobil account fiatchrysl fcagroup  \n",
       "5                                       credit suiss lead wealth manag strong invest bank capabl also follow us csapac csschweiz  \n",
       "6                   lead scienc technolog compani healthcar life scienc perform materi intend us ca visitor https t co wh xcvhme  \n",
       "7                                                   live updat peopl build world s best plane pioneer futur aerospac wemakeitfli  \n",
       "8        catalyst privaci leadership scholarship advanc principl data practic support emerg tech get updat https t co p pvpeanfj  \n",
       "9                                                               ceo futureofprivaci co chair iltechpolici won t speak male panel  \n",
       "10                              center democraci technolog shape tech polici architectur focus right individu cdteu eu base team  \n",
       "11                                  mission improv health live peopl affect poverti emerg without regard polit religion abil pay  \n",
       "12  economist s senior editor coauthor bestsel big data board director https t co ge o kdeu https t co ussapizeh fellow oxfordsb  \n",
       "13  author best seller elon musk https t co ecpvupfp writer businessweek host hello world https t co cdjbylj z former scribe nyt  \n",
       "14                                                                           govern can work peopl peopl st centuri help us make  \n",
       "15                                                       o reilli media s group blog emerg technolog twitter feed manag jennwebb  \n",
       "16      think intersect tech societi extrem onlin strataconf startupfest https t co nvu c c il leananalyt fwd conf scaletechconf  \n",
       "17                      offici account news jointforc gendunford genselva joint staff servic follow rts link endors deptofdefens  \n",
       "18                                 team rubicon unit skill experi militari veteran first respond rapid deploy emerg respons team  \n",
       "19                                                                                                   techamm hammer lab cloudera  "
      ]
     },
     "execution_count": 46,
     "metadata": {},
     "output_type": "execute_result"
    }
   ],
   "source": [
    "df"
   ]
  },
  {
   "cell_type": "markdown",
   "metadata": {},
   "source": [
    "# Features."
   ]
  },
  {
   "cell_type": "code",
   "execution_count": 4,
   "metadata": {},
   "outputs": [],
   "source": [
    "from text_processing import cleaning_string, cleaning_data\n",
    "from sklearn.feature_extraction.text import TfidfVectorizer"
   ]
  },
  {
   "cell_type": "code",
   "execution_count": 5,
   "metadata": {},
   "outputs": [],
   "source": [
    "df2 = cleaning_data(df, 'bio')\n",
    "tfidf_vectorizer = TfidfVectorizer(max_df=0.9, min_df=2, use_idf=True)\n",
    "df_sparse = tfidf_vectorizer.fit_transform(df2.clean_text.tolist())"
   ]
  },
  {
   "cell_type": "markdown",
   "metadata": {},
   "source": [
    "# Models."
   ]
  },
  {
   "cell_type": "code",
   "execution_count": 6,
   "metadata": {},
   "outputs": [],
   "source": [
    "from sklearn.cluster import KMeans"
   ]
  },
  {
   "cell_type": "code",
   "execution_count": 7,
   "metadata": {},
   "outputs": [
    {
     "data": {
      "text/plain": [
       "KMeans(algorithm='auto', copy_x=True, init='k-means++', max_iter=300,\n",
       "    n_clusters=4, n_init=10, n_jobs=-1, precompute_distances='auto',\n",
       "    random_state=None, tol=0.0001, verbose=0)"
      ]
     },
     "execution_count": 7,
     "metadata": {},
     "output_type": "execute_result"
    }
   ],
   "source": [
    "k = 4\n",
    "km_model = KMeans(n_clusters=k, n_jobs=-1)\n",
    "km_model.fit(df_sparse)"
   ]
  },
  {
   "cell_type": "code",
   "execution_count": 8,
   "metadata": {},
   "outputs": [],
   "source": [
    "df2['labels'] = km_model.labels_"
   ]
  },
  {
   "cell_type": "markdown",
   "metadata": {},
   "source": [
    "# Assessment"
   ]
  },
  {
   "cell_type": "code",
   "execution_count": 9,
   "metadata": {
    "scrolled": true
   },
   "outputs": [
    {
     "data": {
      "text/html": [
       "<div>\n",
       "<style scoped>\n",
       "    .dataframe tbody tr th:only-of-type {\n",
       "        vertical-align: middle;\n",
       "    }\n",
       "\n",
       "    .dataframe tbody tr th {\n",
       "        vertical-align: top;\n",
       "    }\n",
       "\n",
       "    .dataframe thead th {\n",
       "        text-align: right;\n",
       "    }\n",
       "</style>\n",
       "<table border=\"1\" class=\"dataframe\">\n",
       "  <thead>\n",
       "    <tr style=\"text-align: right;\">\n",
       "      <th></th>\n",
       "      <th>screenName</th>\n",
       "      <th>bio</th>\n",
       "      <th>clean_text</th>\n",
       "    </tr>\n",
       "    <tr>\n",
       "      <th>labels</th>\n",
       "      <th></th>\n",
       "      <th></th>\n",
       "      <th></th>\n",
       "    </tr>\n",
       "  </thead>\n",
       "  <tbody>\n",
       "    <tr>\n",
       "      <th>0</th>\n",
       "      <td>5</td>\n",
       "      <td>5</td>\n",
       "      <td>5</td>\n",
       "    </tr>\n",
       "    <tr>\n",
       "      <th>1</th>\n",
       "      <td>2</td>\n",
       "      <td>2</td>\n",
       "      <td>2</td>\n",
       "    </tr>\n",
       "    <tr>\n",
       "      <th>2</th>\n",
       "      <td>8</td>\n",
       "      <td>8</td>\n",
       "      <td>8</td>\n",
       "    </tr>\n",
       "    <tr>\n",
       "      <th>3</th>\n",
       "      <td>5</td>\n",
       "      <td>5</td>\n",
       "      <td>5</td>\n",
       "    </tr>\n",
       "  </tbody>\n",
       "</table>\n",
       "</div>"
      ],
      "text/plain": [
       "        screenName  bio  clean_text\n",
       "labels                             \n",
       "0                5    5           5\n",
       "1                2    2           2\n",
       "2                8    8           8\n",
       "3                5    5           5"
      ]
     },
     "execution_count": 9,
     "metadata": {},
     "output_type": "execute_result"
    }
   ],
   "source": [
    "df2.groupby('labels').count()"
   ]
  },
  {
   "cell_type": "markdown",
   "metadata": {},
   "source": [
    "# Get the centroid"
   ]
  },
  {
   "cell_type": "code",
   "execution_count": 10,
   "metadata": {},
   "outputs": [],
   "source": [
    "from sklearn.metrics import pairwise_distances_argmin_min"
   ]
  },
  {
   "cell_type": "code",
   "execution_count": 30,
   "metadata": {},
   "outputs": [
    {
     "data": {
      "text/html": [
       "<div>\n",
       "<style scoped>\n",
       "    .dataframe tbody tr th:only-of-type {\n",
       "        vertical-align: middle;\n",
       "    }\n",
       "\n",
       "    .dataframe tbody tr th {\n",
       "        vertical-align: top;\n",
       "    }\n",
       "\n",
       "    .dataframe thead th {\n",
       "        text-align: right;\n",
       "    }\n",
       "</style>\n",
       "<table border=\"1\" class=\"dataframe\">\n",
       "  <thead>\n",
       "    <tr style=\"text-align: right;\">\n",
       "      <th></th>\n",
       "      <th>screenName</th>\n",
       "      <th>bio</th>\n",
       "      <th>clean_text</th>\n",
       "      <th>labels</th>\n",
       "    </tr>\n",
       "  </thead>\n",
       "  <tbody>\n",
       "    <tr>\n",
       "      <th>12</th>\n",
       "      <td>kncukier</td>\n",
       "      <td>The Economist's Senior Editor. Coauthor of bestseller \"Big Data\". Board director at https://t.co/gE85O4kDEU and https://t.co/uSSaPIzEH0 Fellow at @OxfordSBS</td>\n",
       "      <td>economist s senior editor coauthor bestsel big data board director https t co ge o kdeu https t co ussapizeh fellow oxfordsb</td>\n",
       "      <td>3</td>\n",
       "    </tr>\n",
       "  </tbody>\n",
       "</table>\n",
       "</div>"
      ],
      "text/plain": [
       "   screenName  \\\n",
       "12   kncukier   \n",
       "\n",
       "                                                                                                                                                             bio  \\\n",
       "12  The Economist's Senior Editor. Coauthor of bestseller \"Big Data\". Board director at https://t.co/gE85O4kDEU and https://t.co/uSSaPIzEH0 Fellow at @OxfordSBS   \n",
       "\n",
       "                                                                                                                      clean_text  \\\n",
       "12  economist s senior editor coauthor bestsel big data board director https t co ge o kdeu https t co ussapizeh fellow oxfordsb   \n",
       "\n",
       "    labels  \n",
       "12       3  "
      ]
     },
     "execution_count": 30,
     "metadata": {},
     "output_type": "execute_result"
    }
   ],
   "source": [
    "cluster_number = 3\n",
    "df_sub0 = df2[df2['labels'] == cluster_number]\n",
    "df_sparse0 = tfidf_vectorizer.transform(df_sub0.clean_text.tolist())\n",
    "\n",
    "closest, _ = pairwise_distances_argmin_min(km_model.cluster_centers_[cluster_number].reshape(1, -1), df_sparse0)\n",
    "\n",
    "df_sub0.iloc[closest]"
   ]
  },
  {
   "cell_type": "code",
   "execution_count": 31,
   "metadata": {
    "scrolled": true
   },
   "outputs": [
    {
     "data": {
      "text/html": [
       "<div>\n",
       "<style scoped>\n",
       "    .dataframe tbody tr th:only-of-type {\n",
       "        vertical-align: middle;\n",
       "    }\n",
       "\n",
       "    .dataframe tbody tr th {\n",
       "        vertical-align: top;\n",
       "    }\n",
       "\n",
       "    .dataframe thead th {\n",
       "        text-align: right;\n",
       "    }\n",
       "</style>\n",
       "<table border=\"1\" class=\"dataframe\">\n",
       "  <thead>\n",
       "    <tr style=\"text-align: right;\">\n",
       "      <th></th>\n",
       "      <th>screenName</th>\n",
       "      <th>bio</th>\n",
       "      <th>clean_text</th>\n",
       "      <th>labels</th>\n",
       "    </tr>\n",
       "  </thead>\n",
       "  <tbody>\n",
       "    <tr>\n",
       "      <th>8</th>\n",
       "      <td>futureofprivacy</td>\n",
       "      <td>A catalyst for #privacy leadership &amp; scholarship, advancing principled data practices in support of emerging #tech. Get updates: https://t.co/P9PvpEAnfJ</td>\n",
       "      <td>catalyst privaci leadership scholarship advanc principl data practic support emerg tech get updat https t co p pvpeanfj</td>\n",
       "      <td>3</td>\n",
       "    </tr>\n",
       "    <tr>\n",
       "      <th>9</th>\n",
       "      <td>JulesPolonetsky</td>\n",
       "      <td>CEO @futureofprivacy, Co-Chair @ILTechPolicy, won't speak on all male panels.</td>\n",
       "      <td>ceo futureofprivaci co chair iltechpolici won t speak male panel</td>\n",
       "      <td>3</td>\n",
       "    </tr>\n",
       "    <tr>\n",
       "      <th>12</th>\n",
       "      <td>kncukier</td>\n",
       "      <td>The Economist's Senior Editor. Coauthor of bestseller \"Big Data\". Board director at https://t.co/gE85O4kDEU and https://t.co/uSSaPIzEH0 Fellow at @OxfordSBS</td>\n",
       "      <td>economist s senior editor coauthor bestsel big data board director https t co ge o kdeu https t co ussapizeh fellow oxfordsb</td>\n",
       "      <td>3</td>\n",
       "    </tr>\n",
       "    <tr>\n",
       "      <th>13</th>\n",
       "      <td>valleyhack</td>\n",
       "      <td>Author of best seller on Elon Musk - https://t.co/ECPVUpFp90. Writer for Businessweek. Host of Hello World. https://t.co/5cDJBYlj0Z Former scribe for NYT.</td>\n",
       "      <td>author best seller elon musk https t co ecpvupfp writer businessweek host hello world https t co cdjbylj z former scribe nyt</td>\n",
       "      <td>3</td>\n",
       "    </tr>\n",
       "    <tr>\n",
       "      <th>16</th>\n",
       "      <td>acroll</td>\n",
       "      <td>Thinking about the intersection of tech &amp; society. Once Extremely Online. @Strataconf @Startupfest https://t.co/nvU6C9c7Il @leananalytics @fwd50conf @scaletechconf</td>\n",
       "      <td>think intersect tech societi extrem onlin strataconf startupfest https t co nvu c c il leananalyt fwd conf scaletechconf</td>\n",
       "      <td>3</td>\n",
       "    </tr>\n",
       "  </tbody>\n",
       "</table>\n",
       "</div>"
      ],
      "text/plain": [
       "         screenName  \\\n",
       "8   futureofprivacy   \n",
       "9   JulesPolonetsky   \n",
       "12         kncukier   \n",
       "13       valleyhack   \n",
       "16           acroll   \n",
       "\n",
       "                                                                                                                                                                    bio  \\\n",
       "8              A catalyst for #privacy leadership & scholarship, advancing principled data practices in support of emerging #tech. Get updates: https://t.co/P9PvpEAnfJ   \n",
       "9                                                                                         CEO @futureofprivacy, Co-Chair @ILTechPolicy, won't speak on all male panels.   \n",
       "12         The Economist's Senior Editor. Coauthor of bestseller \"Big Data\". Board director at https://t.co/gE85O4kDEU and https://t.co/uSSaPIzEH0 Fellow at @OxfordSBS   \n",
       "13           Author of best seller on Elon Musk - https://t.co/ECPVUpFp90. Writer for Businessweek. Host of Hello World. https://t.co/5cDJBYlj0Z Former scribe for NYT.   \n",
       "16  Thinking about the intersection of tech & society. Once Extremely Online. @Strataconf @Startupfest https://t.co/nvU6C9c7Il @leananalytics @fwd50conf @scaletechconf   \n",
       "\n",
       "                                                                                                                      clean_text  \\\n",
       "8        catalyst privaci leadership scholarship advanc principl data practic support emerg tech get updat https t co p pvpeanfj   \n",
       "9                                                               ceo futureofprivaci co chair iltechpolici won t speak male panel   \n",
       "12  economist s senior editor coauthor bestsel big data board director https t co ge o kdeu https t co ussapizeh fellow oxfordsb   \n",
       "13  author best seller elon musk https t co ecpvupfp writer businessweek host hello world https t co cdjbylj z former scribe nyt   \n",
       "16      think intersect tech societi extrem onlin strataconf startupfest https t co nvu c c il leananalyt fwd conf scaletechconf   \n",
       "\n",
       "    labels  \n",
       "8        3  \n",
       "9        3  \n",
       "12       3  \n",
       "13       3  \n",
       "16       3  "
      ]
     },
     "execution_count": 31,
     "metadata": {},
     "output_type": "execute_result"
    }
   ],
   "source": [
    "df_sub0"
   ]
  },
  {
   "cell_type": "markdown",
   "metadata": {},
   "source": [
    "# Looking at the distances across data points"
   ]
  },
  {
   "cell_type": "code",
   "execution_count": 61,
   "metadata": {},
   "outputs": [],
   "source": [
    "df_tfidf = pd.DataFrame(df_sparse.toarray())"
   ]
  },
  {
   "cell_type": "code",
   "execution_count": 62,
   "metadata": {},
   "outputs": [
    {
     "name": "stdout",
     "output_type": "stream",
     "text": [
      "1.2860492194534463\n"
     ]
    }
   ],
   "source": [
    "a = df_tfidf.iloc[7]\n",
    "b = df_tfidf.iloc[0]\n",
    "\n",
    "dist = np.linalg.norm(a-b)\n",
    "print(dist)"
   ]
  },
  {
   "cell_type": "code",
   "execution_count": 63,
   "metadata": {},
   "outputs": [
    {
     "name": "stdout",
     "output_type": "stream",
     "text": [
      "1.4142135623730951\n"
     ]
    }
   ],
   "source": [
    "a = df_tfidf.iloc[7]\n",
    "b = df_tfidf.iloc[5]\n",
    "\n",
    "dist = np.linalg.norm(a-b)\n",
    "print(dist)"
   ]
  },
  {
   "cell_type": "code",
   "execution_count": 65,
   "metadata": {},
   "outputs": [
    {
     "data": {
      "text/plain": [
       "0.09062587598480179"
      ]
     },
     "execution_count": 65,
     "metadata": {},
     "output_type": "execute_result"
    }
   ],
   "source": [
    "abs(1.2860492194534463 - 1.4142135623730951)/1.414213562373095"
   ]
  },
  {
   "cell_type": "code",
   "execution_count": null,
   "metadata": {},
   "outputs": [],
   "source": []
  }
 ],
 "metadata": {
  "kernelspec": {
   "display_name": "Python 3",
   "language": "python",
   "name": "python3"
  },
  "language_info": {
   "codemirror_mode": {
    "name": "ipython",
    "version": 3
   },
   "file_extension": ".py",
   "mimetype": "text/x-python",
   "name": "python",
   "nbconvert_exporter": "python",
   "pygments_lexer": "ipython3",
   "version": "3.7.0"
  }
 },
 "nbformat": 4,
 "nbformat_minor": 2
}
