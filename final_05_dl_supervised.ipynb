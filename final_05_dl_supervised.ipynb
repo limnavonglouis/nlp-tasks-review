{
 "cells": [
  {
   "cell_type": "code",
   "execution_count": 1,
   "metadata": {},
   "outputs": [],
   "source": [
    "import pandas as pd\n",
    "from sklearn.model_selection import train_test_split\n",
    "from text_token import column_token\n",
    "from gensim.models import word2vec\n",
    "\n",
    "pd.options.display.max_colwidth = 200"
   ]
  },
  {
   "cell_type": "code",
   "execution_count": 2,
   "metadata": {},
   "outputs": [],
   "source": [
    "df = pd.read_csv(\"data/final_sub.csv\")\n",
    "#df = pd.read_csv(\"data/final_full.csv\")"
   ]
  },
  {
   "cell_type": "code",
   "execution_count": 3,
   "metadata": {},
   "outputs": [],
   "source": [
    "df_train = pd.read_csv('data/final_train_sub.csv')\n",
    "#df_train = pd.read_csv('data/final_train_full.csv')\n",
    "\n",
    "df_test = pd.read_csv('data/final_test_sub.csv')\n",
    "#df_test = pd.read_csv('data/final_test_full.csv')"
   ]
  },
  {
   "cell_type": "code",
   "execution_count": 4,
   "metadata": {
    "scrolled": true
   },
   "outputs": [
    {
     "data": {
      "text/html": [
       "<div>\n",
       "<style scoped>\n",
       "    .dataframe tbody tr th:only-of-type {\n",
       "        vertical-align: middle;\n",
       "    }\n",
       "\n",
       "    .dataframe tbody tr th {\n",
       "        vertical-align: top;\n",
       "    }\n",
       "\n",
       "    .dataframe thead th {\n",
       "        text-align: right;\n",
       "    }\n",
       "</style>\n",
       "<table border=\"1\" class=\"dataframe\">\n",
       "  <thead>\n",
       "    <tr style=\"text-align: right;\">\n",
       "      <th></th>\n",
       "      <th>Unnamed: 0</th>\n",
       "      <th>label</th>\n",
       "      <th>reviewText</th>\n",
       "      <th>clean_text</th>\n",
       "    </tr>\n",
       "  </thead>\n",
       "  <tbody>\n",
       "    <tr>\n",
       "      <th>0</th>\n",
       "      <td>4227</td>\n",
       "      <td>1</td>\n",
       "      <td>Wow,  just finished reading this book it was different and interesting but at the same time passionable and great love.</td>\n",
       "      <td>[wow, just, finished, reading, book, different, interesting, time, passionable, great, love]</td>\n",
       "    </tr>\n",
       "    <tr>\n",
       "      <th>1</th>\n",
       "      <td>4676</td>\n",
       "      <td>0</td>\n",
       "      <td>How many stereotypes can be crammed into 1 short story. I got this since it appeared to be a modern continuation of &amp;#34;To Ride a Puka&amp;#34; I highly recommend that book. But don't bother with thi...</td>\n",
       "      <td>[many, stereotypes, can, crammed, short, story, got, since, appeared, modern, continuation, ride, puka, highly, recommend, book, don, t, bother, one]</td>\n",
       "    </tr>\n",
       "    <tr>\n",
       "      <th>2</th>\n",
       "      <td>800</td>\n",
       "      <td>1</td>\n",
       "      <td>OMG. I can't get enough of this series. Just love Taron and Ivy. I love the Walker brothers. Can't wait to see whats happens next.</td>\n",
       "      <td>[omg, can, t, get, enough, series, just, love, taron, ivy, love, walker, brothers, can, t, wait, see, whats, happens, next]</td>\n",
       "    </tr>\n",
       "    <tr>\n",
       "      <th>3</th>\n",
       "      <td>3671</td>\n",
       "      <td>1</td>\n",
       "      <td>Wow! You will need a tissue when you read this. Poor Alex has so many things happen to her in her 30 years. The bulk of the story takes place while she is 15. Fast forward to present day with a se...</td>\n",
       "      <td>[wow, will, need, tissue, read, poor, alex, many, things, happen, years, bulk, story, takes, place, fast, forward, present, day, second, chance, love, one, deserves, happiness, much, alex, sweet, ...</td>\n",
       "    </tr>\n",
       "    <tr>\n",
       "      <th>4</th>\n",
       "      <td>4193</td>\n",
       "      <td>1</td>\n",
       "      <td>Set in LA, there are hints of LA Confidential along with a quirky heroine and a solid mystery. \"Kenny\" Rubin (the name is short for a name she hates) is a woman in a tough town. She also writes fo...</td>\n",
       "      <td>[set, la, hints, la, confidential, along, quirky, heroine, solid, mystery, kenny, rubin, name, short, name, hates, woman, tough, town, also, writes, magazine, s, fold, s, covering, five, year, old...</td>\n",
       "    </tr>\n",
       "  </tbody>\n",
       "</table>\n",
       "</div>"
      ],
      "text/plain": [
       "   Unnamed: 0  label  \\\n",
       "0        4227      1   \n",
       "1        4676      0   \n",
       "2         800      1   \n",
       "3        3671      1   \n",
       "4        4193      1   \n",
       "\n",
       "                                                                                                                                                                                                reviewText  \\\n",
       "0                                                                                  Wow,  just finished reading this book it was different and interesting but at the same time passionable and great love.   \n",
       "1  How many stereotypes can be crammed into 1 short story. I got this since it appeared to be a modern continuation of &#34;To Ride a Puka&#34; I highly recommend that book. But don't bother with thi...   \n",
       "2                                                                       OMG. I can't get enough of this series. Just love Taron and Ivy. I love the Walker brothers. Can't wait to see whats happens next.   \n",
       "3  Wow! You will need a tissue when you read this. Poor Alex has so many things happen to her in her 30 years. The bulk of the story takes place while she is 15. Fast forward to present day with a se...   \n",
       "4  Set in LA, there are hints of LA Confidential along with a quirky heroine and a solid mystery. \"Kenny\" Rubin (the name is short for a name she hates) is a woman in a tough town. She also writes fo...   \n",
       "\n",
       "                                                                                                                                                                                                clean_text  \n",
       "0                                                                                                             [wow, just, finished, reading, book, different, interesting, time, passionable, great, love]  \n",
       "1                                                    [many, stereotypes, can, crammed, short, story, got, since, appeared, modern, continuation, ride, puka, highly, recommend, book, don, t, bother, one]  \n",
       "2                                                                              [omg, can, t, get, enough, series, just, love, taron, ivy, love, walker, brothers, can, t, wait, see, whats, happens, next]  \n",
       "3  [wow, will, need, tissue, read, poor, alex, many, things, happen, years, bulk, story, takes, place, fast, forward, present, day, second, chance, love, one, deserves, happiness, much, alex, sweet, ...  \n",
       "4  [set, la, hints, la, confidential, along, quirky, heroine, solid, mystery, kenny, rubin, name, short, name, hates, woman, tough, town, also, writes, magazine, s, fold, s, covering, five, year, old...  "
      ]
     },
     "execution_count": 4,
     "metadata": {},
     "output_type": "execute_result"
    }
   ],
   "source": [
    "df1_train = column_token(df_train, 'reviewText')\n",
    "df1_test = column_token(df_test, 'reviewText')\n",
    "df1_train.head()"
   ]
  },
  {
   "cell_type": "code",
   "execution_count": 5,
   "metadata": {},
   "outputs": [
    {
     "data": {
      "text/plain": [
       "(4000, 4)"
      ]
     },
     "execution_count": 5,
     "metadata": {},
     "output_type": "execute_result"
    }
   ],
   "source": [
    "df_train.shape"
   ]
  },
  {
   "cell_type": "code",
   "execution_count": 6,
   "metadata": {},
   "outputs": [],
   "source": [
    "from doc_embed import averaged_word_vectorizer"
   ]
  },
  {
   "cell_type": "code",
   "execution_count": 7,
   "metadata": {},
   "outputs": [],
   "source": [
    "# Set values for various parameters\n",
    "feature_size = 10    # Word vector dimensionality  \n",
    "window_context = 10          # Context window size                                                                                    \n",
    "min_word_count = 1   # Minimum word count                        \n",
    "sample = 1e-3   # Downsample setting for frequent words\n",
    "\n",
    "w2v_model = word2vec.Word2Vec(df1_train['clean_text'], size=feature_size, \n",
    "                              window=window_context, min_count = min_word_count,\n",
    "                              sample=sample, iter=100)"
   ]
  },
  {
   "cell_type": "code",
   "execution_count": 8,
   "metadata": {},
   "outputs": [],
   "source": [
    "w2v_feature_array_train = averaged_word_vectorizer(corpus=df1_train['clean_text'], model=w2v_model,\n",
    "                                             num_features=feature_size)\n",
    "X_train = pd.DataFrame(w2v_feature_array_train)"
   ]
  },
  {
   "cell_type": "code",
   "execution_count": 9,
   "metadata": {},
   "outputs": [],
   "source": [
    "w2v_feature_array_test = averaged_word_vectorizer(corpus=df1_test['clean_text'], model=w2v_model,\n",
    "                                             num_features=feature_size)\n",
    "X_test = pd.DataFrame(w2v_feature_array_test)"
   ]
  },
  {
   "cell_type": "code",
   "execution_count": 10,
   "metadata": {},
   "outputs": [],
   "source": [
    "y_train = df1_train['label']\n",
    "y_test = df1_test['label']"
   ]
  },
  {
   "cell_type": "code",
   "execution_count": 11,
   "metadata": {},
   "outputs": [],
   "source": [
    "#X_train.head()"
   ]
  },
  {
   "cell_type": "code",
   "execution_count": 12,
   "metadata": {},
   "outputs": [
    {
     "name": "stderr",
     "output_type": "stream",
     "text": [
      "/Users/louislimnavong/anaconda3/lib/python3.7/site-packages/sklearn/ensemble/weight_boosting.py:29: DeprecationWarning: numpy.core.umath_tests is an internal NumPy module and should not be imported. It will be removed in a future NumPy release.\n",
      "  from numpy.core.umath_tests import inner1d\n"
     ]
    }
   ],
   "source": [
    "from sklearn.ensemble import GradientBoostingClassifier\n",
    "from sklearn.metrics import confusion_matrix\n",
    "from sklearn.metrics import classification_report\n",
    "from sklearn.metrics import accuracy_score"
   ]
  },
  {
   "cell_type": "code",
   "execution_count": 13,
   "metadata": {},
   "outputs": [
    {
     "data": {
      "text/plain": [
       "GradientBoostingClassifier(criterion='friedman_mse', init=None,\n",
       "              learning_rate=0.1, loss='deviance', max_depth=3,\n",
       "              max_features=None, max_leaf_nodes=None,\n",
       "              min_impurity_decrease=0.0, min_impurity_split=None,\n",
       "              min_samples_leaf=1, min_samples_split=2,\n",
       "              min_weight_fraction_leaf=0.0, n_estimators=100,\n",
       "              presort='auto', random_state=42, subsample=1.0, verbose=0,\n",
       "              warm_start=False)"
      ]
     },
     "execution_count": 13,
     "metadata": {},
     "output_type": "execute_result"
    }
   ],
   "source": [
    "model = GradientBoostingClassifier(n_estimators=100, random_state=42, learning_rate=0.1)\n",
    "model.fit(X_train, y_train)"
   ]
  },
  {
   "cell_type": "code",
   "execution_count": 14,
   "metadata": {},
   "outputs": [
    {
     "name": "stdout",
     "output_type": "stream",
     "text": [
      "[[1764  150]\n",
      " [ 131 1955]]\n"
     ]
    }
   ],
   "source": [
    "print(confusion_matrix(y_train, model.predict(X_train)))"
   ]
  },
  {
   "cell_type": "code",
   "execution_count": 15,
   "metadata": {
    "scrolled": true
   },
   "outputs": [
    {
     "name": "stdout",
     "output_type": "stream",
     "text": [
      "[[421  57]\n",
      " [ 44 478]]\n",
      "             precision    recall  f1-score   support\n",
      "\n",
      "          0       0.91      0.88      0.89       478\n",
      "          1       0.89      0.92      0.90       522\n",
      "\n",
      "avg / total       0.90      0.90      0.90      1000\n",
      "\n",
      "0.899\n"
     ]
    }
   ],
   "source": [
    "print(confusion_matrix(y_test, model.predict(X_test)))\n",
    "print(classification_report(y_test, model.predict(X_test)))\n",
    "print(accuracy_score(y_test, model.predict(X_test)))"
   ]
  },
  {
   "cell_type": "markdown",
   "metadata": {},
   "source": [
    "# Diagnosis"
   ]
  },
  {
   "cell_type": "code",
   "execution_count": 16,
   "metadata": {},
   "outputs": [
    {
     "data": {
      "text/html": [
       "<div>\n",
       "<style scoped>\n",
       "    .dataframe tbody tr th:only-of-type {\n",
       "        vertical-align: middle;\n",
       "    }\n",
       "\n",
       "    .dataframe tbody tr th {\n",
       "        vertical-align: top;\n",
       "    }\n",
       "\n",
       "    .dataframe thead th {\n",
       "        text-align: right;\n",
       "    }\n",
       "</style>\n",
       "<table border=\"1\" class=\"dataframe\">\n",
       "  <thead>\n",
       "    <tr style=\"text-align: right;\">\n",
       "      <th></th>\n",
       "      <th>Unnamed: 0</th>\n",
       "      <th>label</th>\n",
       "      <th>reviewText</th>\n",
       "      <th>clean_text</th>\n",
       "      <th>predict_label</th>\n",
       "      <th>Prediction</th>\n",
       "    </tr>\n",
       "  </thead>\n",
       "  <tbody>\n",
       "    <tr>\n",
       "      <th>0</th>\n",
       "      <td>1501</td>\n",
       "      <td>1</td>\n",
       "      <td>There&amp;#8217;s (almost!) nothing I enjoy more than reading a book that whisks me away from reality and submerges me in a fantasy world filled with good, evil and steamy seduction! In this book, our...</td>\n",
       "      <td>[s, almost, nothing, enjoy, reading, book, whisks, away, reality, submerges, fantasy, world, filled, good, evil, steamy, seduction, book, heroine, melisse, lowly, servant, humiliated, every, turn,...</td>\n",
       "      <td>1</td>\n",
       "      <td>0.062223</td>\n",
       "    </tr>\n",
       "    <tr>\n",
       "      <th>1</th>\n",
       "      <td>2586</td>\n",
       "      <td>0</td>\n",
       "      <td>This was an amateurish attempt at writing.  The dialogue was stilted and the plot predictable.  This story completed lacked originality and seems like a poorly written short story for someone in a...</td>\n",
       "      <td>[amateurish, attempt, writing, dialogue, stilted, plot, predictable, story, completed, lacked, originality, seems, like, poorly, written, short, story, someone, writing, class, nothing, series, th...</td>\n",
       "      <td>0</td>\n",
       "      <td>0.990885</td>\n",
       "    </tr>\n",
       "    <tr>\n",
       "      <th>2</th>\n",
       "      <td>2653</td>\n",
       "      <td>0</td>\n",
       "      <td>This was a poorly written piece that I wish I had not wasted my money on.  Apart from using the word than when he should use then, the author also constantly made sweeping generalisations that wer...</td>\n",
       "      <td>[poorly, written, piece, wish, wasted, money, apart, using, word, use, author, also, constantly, made, sweeping, generalisations, just, ludicrous]</td>\n",
       "      <td>0</td>\n",
       "      <td>0.980523</td>\n",
       "    </tr>\n",
       "    <tr>\n",
       "      <th>3</th>\n",
       "      <td>1055</td>\n",
       "      <td>0</td>\n",
       "      <td>Perhaps if I had young children and was looking for a projects to do together this would have been interesting.</td>\n",
       "      <td>[perhaps, young, children, looking, projects, together, interesting]</td>\n",
       "      <td>1</td>\n",
       "      <td>0.113279</td>\n",
       "    </tr>\n",
       "    <tr>\n",
       "      <th>4</th>\n",
       "      <td>705</td>\n",
       "      <td>0</td>\n",
       "      <td>Details. . I chose the book in a bored state. Too much sexually explicit, by a dreamer of what she could not actually experience so she may climax in her sick soul.</td>\n",
       "      <td>[details, chose, book, bored, state, much, sexually, explicit, dreamer, actually, experience, may, climax, sick, soul]</td>\n",
       "      <td>0</td>\n",
       "      <td>0.940147</td>\n",
       "    </tr>\n",
       "  </tbody>\n",
       "</table>\n",
       "</div>"
      ],
      "text/plain": [
       "   Unnamed: 0  label  \\\n",
       "0        1501      1   \n",
       "1        2586      0   \n",
       "2        2653      0   \n",
       "3        1055      0   \n",
       "4         705      0   \n",
       "\n",
       "                                                                                                                                                                                                reviewText  \\\n",
       "0  There&#8217;s (almost!) nothing I enjoy more than reading a book that whisks me away from reality and submerges me in a fantasy world filled with good, evil and steamy seduction! In this book, our...   \n",
       "1  This was an amateurish attempt at writing.  The dialogue was stilted and the plot predictable.  This story completed lacked originality and seems like a poorly written short story for someone in a...   \n",
       "2  This was a poorly written piece that I wish I had not wasted my money on.  Apart from using the word than when he should use then, the author also constantly made sweeping generalisations that wer...   \n",
       "3                                                                                          Perhaps if I had young children and was looking for a projects to do together this would have been interesting.   \n",
       "4                                     Details. . I chose the book in a bored state. Too much sexually explicit, by a dreamer of what she could not actually experience so she may climax in her sick soul.   \n",
       "\n",
       "                                                                                                                                                                                                clean_text  \\\n",
       "0  [s, almost, nothing, enjoy, reading, book, whisks, away, reality, submerges, fantasy, world, filled, good, evil, steamy, seduction, book, heroine, melisse, lowly, servant, humiliated, every, turn,...   \n",
       "1  [amateurish, attempt, writing, dialogue, stilted, plot, predictable, story, completed, lacked, originality, seems, like, poorly, written, short, story, someone, writing, class, nothing, series, th...   \n",
       "2                                                       [poorly, written, piece, wish, wasted, money, apart, using, word, use, author, also, constantly, made, sweeping, generalisations, just, ludicrous]   \n",
       "3                                                                                                                                     [perhaps, young, children, looking, projects, together, interesting]   \n",
       "4                                                                                   [details, chose, book, bored, state, much, sexually, explicit, dreamer, actually, experience, may, climax, sick, soul]   \n",
       "\n",
       "   predict_label  Prediction  \n",
       "0              1    0.062223  \n",
       "1              0    0.990885  \n",
       "2              0    0.980523  \n",
       "3              1    0.113279  \n",
       "4              0    0.940147  "
      ]
     },
     "execution_count": 16,
     "metadata": {},
     "output_type": "execute_result"
    }
   ],
   "source": [
    "df1_test['predict_label'] =  model.predict(X_test)\n",
    "df1_test['Prediction'] =  model.predict_proba(X_test)[:,0]\n",
    "df1_test.head()"
   ]
  },
  {
   "cell_type": "code",
   "execution_count": 17,
   "metadata": {},
   "outputs": [],
   "source": [
    "df1_test['error'] = abs(df1_test['label'] - df1_test['predict_label'])"
   ]
  },
  {
   "cell_type": "code",
   "execution_count": 18,
   "metadata": {
    "scrolled": true
   },
   "outputs": [
    {
     "data": {
      "text/html": [
       "<div>\n",
       "<style scoped>\n",
       "    .dataframe tbody tr th:only-of-type {\n",
       "        vertical-align: middle;\n",
       "    }\n",
       "\n",
       "    .dataframe tbody tr th {\n",
       "        vertical-align: top;\n",
       "    }\n",
       "\n",
       "    .dataframe thead th {\n",
       "        text-align: right;\n",
       "    }\n",
       "</style>\n",
       "<table border=\"1\" class=\"dataframe\">\n",
       "  <thead>\n",
       "    <tr style=\"text-align: right;\">\n",
       "      <th></th>\n",
       "      <th>reviewText</th>\n",
       "      <th>clean_text</th>\n",
       "      <th>label</th>\n",
       "      <th>predict_label</th>\n",
       "      <th>Prediction</th>\n",
       "    </tr>\n",
       "  </thead>\n",
       "  <tbody>\n",
       "    <tr>\n",
       "      <th>542</th>\n",
       "      <td>I will say this was a good end to this series. What I didn't like was the fact was the book only had a hundred and something pages for that price.</td>\n",
       "      <td>[will, say, good, end, series, didn, t, like, fact, book, hundred, something, pages, price]</td>\n",
       "      <td>1</td>\n",
       "      <td>0</td>\n",
       "      <td>0.963726</td>\n",
       "    </tr>\n",
       "    <tr>\n",
       "      <th>431</th>\n",
       "      <td>Since I don't have wi-fi for my Kindle, this USB Cable lets me download books, etc. from my PC to my Kindle.</td>\n",
       "      <td>[since, don, t, wi, fi, kindle, usb, cable, lets, download, books, etc, pc, kindle]</td>\n",
       "      <td>1</td>\n",
       "      <td>0</td>\n",
       "      <td>0.948436</td>\n",
       "    </tr>\n",
       "    <tr>\n",
       "      <th>225</th>\n",
       "      <td>I have to give credit where it's due!! I'm only upset that part III isn't out &amp; there's no mention of when to expect it!! But don't worry I'm a fan for life so please hurry with the follow up!!</td>\n",
       "      <td>[give, credit, s, due, m, upset, part, iii, isn, t, s, mention, expect, don, t, worry, m, fan, life, please, hurry, follow]</td>\n",
       "      <td>1</td>\n",
       "      <td>0</td>\n",
       "      <td>0.945464</td>\n",
       "    </tr>\n",
       "    <tr>\n",
       "      <th>942</th>\n",
       "      <td>Because I didn't have any problems with my version--I really enjoyed it. (Shrugs)I liked the fact that this story had a twist to it and it wasn't just two Doms vying for the attention of one woman...</td>\n",
       "      <td>[didn, t, problems, version, really, enjoyed, shrugs, liked, fact, story, twist, wasn, t, just, two, doms, vying, attention, one, woman, found, intriguing, poor, girl, didn, t, even, know, going, ...</td>\n",
       "      <td>1</td>\n",
       "      <td>0</td>\n",
       "      <td>0.932829</td>\n",
       "    </tr>\n",
       "    <tr>\n",
       "      <th>895</th>\n",
       "      <td>This is how science fiction used to be. Super heroes with super skills, no flaws, just perfect. I am tired of so much reality in my life, I'm tired of reality on TV and movies. Give me some fun an...</td>\n",
       "      <td>[science, fiction, used, super, heroes, super, skills, flaws, just, perfect, tired, much, reality, life, m, tired, reality, tv, movies, give, fun, fantasy, let, pretend, m, ell, m, book, enjoying,...</td>\n",
       "      <td>1</td>\n",
       "      <td>0</td>\n",
       "      <td>0.892482</td>\n",
       "    </tr>\n",
       "  </tbody>\n",
       "</table>\n",
       "</div>"
      ],
      "text/plain": [
       "                                                                                                                                                                                                  reviewText  \\\n",
       "542                                                       I will say this was a good end to this series. What I didn't like was the fact was the book only had a hundred and something pages for that price.   \n",
       "431                                                                                             Since I don't have wi-fi for my Kindle, this USB Cable lets me download books, etc. from my PC to my Kindle.   \n",
       "225        I have to give credit where it's due!! I'm only upset that part III isn't out & there's no mention of when to expect it!! But don't worry I'm a fan for life so please hurry with the follow up!!   \n",
       "942  Because I didn't have any problems with my version--I really enjoyed it. (Shrugs)I liked the fact that this story had a twist to it and it wasn't just two Doms vying for the attention of one woman...   \n",
       "895  This is how science fiction used to be. Super heroes with super skills, no flaws, just perfect. I am tired of so much reality in my life, I'm tired of reality on TV and movies. Give me some fun an...   \n",
       "\n",
       "                                                                                                                                                                                                  clean_text  \\\n",
       "542                                                                                                              [will, say, good, end, series, didn, t, like, fact, book, hundred, something, pages, price]   \n",
       "431                                                                                                                      [since, don, t, wi, fi, kindle, usb, cable, lets, download, books, etc, pc, kindle]   \n",
       "225                                                                              [give, credit, s, due, m, upset, part, iii, isn, t, s, mention, expect, don, t, worry, m, fan, life, please, hurry, follow]   \n",
       "942  [didn, t, problems, version, really, enjoyed, shrugs, liked, fact, story, twist, wasn, t, just, two, doms, vying, attention, one, woman, found, intriguing, poor, girl, didn, t, even, know, going, ...   \n",
       "895  [science, fiction, used, super, heroes, super, skills, flaws, just, perfect, tired, much, reality, life, m, tired, reality, tv, movies, give, fun, fantasy, let, pretend, m, ell, m, book, enjoying,...   \n",
       "\n",
       "     label  predict_label  Prediction  \n",
       "542      1              0    0.963726  \n",
       "431      1              0    0.948436  \n",
       "225      1              0    0.945464  \n",
       "942      1              0    0.932829  \n",
       "895      1              0    0.892482  "
      ]
     },
     "execution_count": 18,
     "metadata": {},
     "output_type": "execute_result"
    }
   ],
   "source": [
    "df_temp = df1_test[['reviewText','clean_text','label', 'predict_label', 'Prediction']][(df1_test['error'] == 1) & (df1_test['predict_label'] == 0)].sort_values(by='Prediction', ascending = False).head()\n",
    "df_temp.head()\n",
    "\n"
   ]
  },
  {
   "cell_type": "code",
   "execution_count": 19,
   "metadata": {},
   "outputs": [
    {
     "data": {
      "text/plain": [
       "['since',\n",
       " 'don',\n",
       " 't',\n",
       " 'wi',\n",
       " 'fi',\n",
       " 'kindle',\n",
       " 'usb',\n",
       " 'cable',\n",
       " 'lets',\n",
       " 'download',\n",
       " 'books',\n",
       " 'etc',\n",
       " 'pc',\n",
       " 'kindle']"
      ]
     },
     "execution_count": 19,
     "metadata": {},
     "output_type": "execute_result"
    }
   ],
   "source": [
    "df_temp['clean_text'].iloc[1]"
   ]
  },
  {
   "cell_type": "code",
   "execution_count": 20,
   "metadata": {},
   "outputs": [],
   "source": [
    "#df_final = X_test.copy()\n",
    "#df_final['label'] = y_test\n",
    "#df_final['predict'] =  model.predict(X_test)\n",
    "#df_final.head()"
   ]
  },
  {
   "cell_type": "code",
   "execution_count": 21,
   "metadata": {},
   "outputs": [],
   "source": [
    "#df_final = df_final.join(df2[['reviewText']]).copy()\n",
    "#df_final.to_csv('data/emb_results.csv')"
   ]
  },
  {
   "cell_type": "code",
   "execution_count": 22,
   "metadata": {},
   "outputs": [],
   "source": [
    "df1_test[['reviewText', 'label', 'predict_label']].to_csv('data/final_emb_results.csv')"
   ]
  },
  {
   "cell_type": "code",
   "execution_count": null,
   "metadata": {},
   "outputs": [],
   "source": []
  }
 ],
 "metadata": {
  "kernelspec": {
   "display_name": "Python 3",
   "language": "python",
   "name": "python3"
  },
  "language_info": {
   "codemirror_mode": {
    "name": "ipython",
    "version": 3
   },
   "file_extension": ".py",
   "mimetype": "text/x-python",
   "name": "python",
   "nbconvert_exporter": "python",
   "pygments_lexer": "ipython3",
   "version": "3.7.0"
  }
 },
 "nbformat": 4,
 "nbformat_minor": 2
}
