{
 "cells": [
  {
   "cell_type": "code",
   "execution_count": 18,
   "metadata": {},
   "outputs": [],
   "source": [
    "import pandas as pd\n",
    "pd.options.display.max_colwidth = 200"
   ]
  },
  {
   "cell_type": "code",
   "execution_count": 4,
   "metadata": {},
   "outputs": [],
   "source": [
    "df_ml = pd.read_csv('data/final_ml_results.csv', index_col = 0)\n",
    "df_emb = pd.read_csv('data/final_emb_results.csv', index_col = 0)"
   ]
  },
  {
   "cell_type": "code",
   "execution_count": 5,
   "metadata": {},
   "outputs": [
    {
     "data": {
      "text/html": [
       "<div>\n",
       "<style scoped>\n",
       "    .dataframe tbody tr th:only-of-type {\n",
       "        vertical-align: middle;\n",
       "    }\n",
       "\n",
       "    .dataframe tbody tr th {\n",
       "        vertical-align: top;\n",
       "    }\n",
       "\n",
       "    .dataframe thead th {\n",
       "        text-align: right;\n",
       "    }\n",
       "</style>\n",
       "<table border=\"1\" class=\"dataframe\">\n",
       "  <thead>\n",
       "    <tr style=\"text-align: right;\">\n",
       "      <th></th>\n",
       "      <th>reviewText</th>\n",
       "      <th>label</th>\n",
       "      <th>predict_label</th>\n",
       "    </tr>\n",
       "  </thead>\n",
       "  <tbody>\n",
       "    <tr>\n",
       "      <th>0</th>\n",
       "      <td>Talk about a generational curse!!! Sasha's 1st...</td>\n",
       "      <td>1</td>\n",
       "      <td>1</td>\n",
       "    </tr>\n",
       "    <tr>\n",
       "      <th>1</th>\n",
       "      <td>Great characters,wonderful romance,spicy taste...</td>\n",
       "      <td>1</td>\n",
       "      <td>1</td>\n",
       "    </tr>\n",
       "  </tbody>\n",
       "</table>\n",
       "</div>"
      ],
      "text/plain": [
       "                                          reviewText  label  predict_label\n",
       "0  Talk about a generational curse!!! Sasha's 1st...      1              1\n",
       "1  Great characters,wonderful romance,spicy taste...      1              1"
      ]
     },
     "execution_count": 5,
     "metadata": {},
     "output_type": "execute_result"
    }
   ],
   "source": [
    "df_emb.head(2)"
   ]
  },
  {
   "cell_type": "code",
   "execution_count": 6,
   "metadata": {},
   "outputs": [
    {
     "data": {
      "text/html": [
       "<div>\n",
       "<style scoped>\n",
       "    .dataframe tbody tr th:only-of-type {\n",
       "        vertical-align: middle;\n",
       "    }\n",
       "\n",
       "    .dataframe tbody tr th {\n",
       "        vertical-align: top;\n",
       "    }\n",
       "\n",
       "    .dataframe thead th {\n",
       "        text-align: right;\n",
       "    }\n",
       "</style>\n",
       "<table border=\"1\" class=\"dataframe\">\n",
       "  <thead>\n",
       "    <tr style=\"text-align: right;\">\n",
       "      <th></th>\n",
       "      <th>reviewText</th>\n",
       "      <th>label</th>\n",
       "      <th>predict_label</th>\n",
       "    </tr>\n",
       "  </thead>\n",
       "  <tbody>\n",
       "    <tr>\n",
       "      <th>0</th>\n",
       "      <td>Talk about a generational curse!!! Sasha's 1st...</td>\n",
       "      <td>1</td>\n",
       "      <td>1</td>\n",
       "    </tr>\n",
       "    <tr>\n",
       "      <th>1</th>\n",
       "      <td>Great characters,wonderful romance,spicy taste...</td>\n",
       "      <td>1</td>\n",
       "      <td>1</td>\n",
       "    </tr>\n",
       "  </tbody>\n",
       "</table>\n",
       "</div>"
      ],
      "text/plain": [
       "                                          reviewText  label  predict_label\n",
       "0  Talk about a generational curse!!! Sasha's 1st...      1              1\n",
       "1  Great characters,wonderful romance,spicy taste...      1              1"
      ]
     },
     "execution_count": 6,
     "metadata": {},
     "output_type": "execute_result"
    }
   ],
   "source": [
    "df_ml.head(2)"
   ]
  },
  {
   "cell_type": "code",
   "execution_count": 8,
   "metadata": {},
   "outputs": [
    {
     "name": "stdout",
     "output_type": "stream",
     "text": [
      "(9604, 3)\n",
      "(9604, 3)\n",
      "(9604, 5)\n"
     ]
    },
    {
     "data": {
      "text/html": [
       "<div>\n",
       "<style scoped>\n",
       "    .dataframe tbody tr th:only-of-type {\n",
       "        vertical-align: middle;\n",
       "    }\n",
       "\n",
       "    .dataframe tbody tr th {\n",
       "        vertical-align: top;\n",
       "    }\n",
       "\n",
       "    .dataframe thead th {\n",
       "        text-align: right;\n",
       "    }\n",
       "</style>\n",
       "<table border=\"1\" class=\"dataframe\">\n",
       "  <thead>\n",
       "    <tr style=\"text-align: right;\">\n",
       "      <th></th>\n",
       "      <th>reviewText</th>\n",
       "      <th>label_x</th>\n",
       "      <th>predict_label_x</th>\n",
       "      <th>label_y</th>\n",
       "      <th>predict_label_y</th>\n",
       "    </tr>\n",
       "  </thead>\n",
       "  <tbody>\n",
       "    <tr>\n",
       "      <th>0</th>\n",
       "      <td>Talk about a generational curse!!! Sasha's 1st...</td>\n",
       "      <td>1</td>\n",
       "      <td>1</td>\n",
       "      <td>1</td>\n",
       "      <td>1</td>\n",
       "    </tr>\n",
       "    <tr>\n",
       "      <th>1</th>\n",
       "      <td>Great characters,wonderful romance,spicy taste...</td>\n",
       "      <td>1</td>\n",
       "      <td>1</td>\n",
       "      <td>1</td>\n",
       "      <td>1</td>\n",
       "    </tr>\n",
       "    <tr>\n",
       "      <th>2</th>\n",
       "      <td>I've been sitting on my review for a couple of...</td>\n",
       "      <td>1</td>\n",
       "      <td>0</td>\n",
       "      <td>1</td>\n",
       "      <td>0</td>\n",
       "    </tr>\n",
       "    <tr>\n",
       "      <th>3</th>\n",
       "      <td>1 star for adults who think they'd like to rea...</td>\n",
       "      <td>0</td>\n",
       "      <td>0</td>\n",
       "      <td>0</td>\n",
       "      <td>1</td>\n",
       "    </tr>\n",
       "    <tr>\n",
       "      <th>4</th>\n",
       "      <td>I admit I got the book because of the title. I...</td>\n",
       "      <td>0</td>\n",
       "      <td>0</td>\n",
       "      <td>0</td>\n",
       "      <td>1</td>\n",
       "    </tr>\n",
       "  </tbody>\n",
       "</table>\n",
       "</div>"
      ],
      "text/plain": [
       "                                          reviewText  label_x  \\\n",
       "0  Talk about a generational curse!!! Sasha's 1st...        1   \n",
       "1  Great characters,wonderful romance,spicy taste...        1   \n",
       "2  I've been sitting on my review for a couple of...        1   \n",
       "3  1 star for adults who think they'd like to rea...        0   \n",
       "4  I admit I got the book because of the title. I...        0   \n",
       "\n",
       "   predict_label_x  label_y  predict_label_y  \n",
       "0                1        1                1  \n",
       "1                1        1                1  \n",
       "2                0        1                0  \n",
       "3                0        0                1  \n",
       "4                0        0                1  "
      ]
     },
     "execution_count": 8,
     "metadata": {},
     "output_type": "execute_result"
    }
   ],
   "source": [
    "print(df_emb.shape)\n",
    "print(df_ml.shape)\n",
    "\n",
    "df = df_emb.merge(df_ml, on = 'reviewText', how = 'inner')\n",
    "print(df.shape)\n",
    "df.head()"
   ]
  },
  {
   "cell_type": "code",
   "execution_count": 9,
   "metadata": {},
   "outputs": [],
   "source": [
    "df['error_emb'] = abs(df['label_x']-df['predict_label_x'])\n",
    "df['error_ml'] = abs(df['label_y']-df['predict_label_y'])"
   ]
  },
  {
   "cell_type": "code",
   "execution_count": 10,
   "metadata": {},
   "outputs": [
    {
     "data": {
      "text/plain": [
       "773"
      ]
     },
     "execution_count": 10,
     "metadata": {},
     "output_type": "execute_result"
    }
   ],
   "source": [
    "df['error_emb'].sum()"
   ]
  },
  {
   "cell_type": "code",
   "execution_count": 11,
   "metadata": {},
   "outputs": [
    {
     "data": {
      "text/plain": [
       "1310"
      ]
     },
     "execution_count": 11,
     "metadata": {},
     "output_type": "execute_result"
    }
   ],
   "source": [
    "df['error_ml'].sum()"
   ]
  },
  {
   "cell_type": "code",
   "execution_count": 31,
   "metadata": {
    "scrolled": true
   },
   "outputs": [
    {
     "data": {
      "text/html": [
       "<div>\n",
       "<style scoped>\n",
       "    .dataframe tbody tr th:only-of-type {\n",
       "        vertical-align: middle;\n",
       "    }\n",
       "\n",
       "    .dataframe tbody tr th {\n",
       "        vertical-align: top;\n",
       "    }\n",
       "\n",
       "    .dataframe thead th {\n",
       "        text-align: right;\n",
       "    }\n",
       "</style>\n",
       "<table border=\"1\" class=\"dataframe\">\n",
       "  <thead>\n",
       "    <tr style=\"text-align: right;\">\n",
       "      <th></th>\n",
       "      <th>reviewText</th>\n",
       "      <th>label_x</th>\n",
       "    </tr>\n",
       "  </thead>\n",
       "  <tbody>\n",
       "    <tr>\n",
       "      <th>3</th>\n",
       "      <td>1 star for adults who think they'd like to read this book... don't bother. It's definitely geared toward younger kids. I'm not even going to say it's great for pre-teens or teens... It's a great w...</td>\n",
       "      <td>0</td>\n",
       "    </tr>\n",
       "    <tr>\n",
       "      <th>4</th>\n",
       "      <td>I admit I got the book because of the title. I have an obsession with Pride &amp; Prejudice books, but this doesn't come anywhere close to the amazing original. It's definitely a fanfic, taking the na...</td>\n",
       "      <td>0</td>\n",
       "    </tr>\n",
       "    <tr>\n",
       "      <th>8</th>\n",
       "      <td>Main character, Gavin DeGrades takes us on his journey of discovering himself while trying to find a murderer. The author developed both romance and suspense quite well. BDSM was portrayed accurat...</td>\n",
       "      <td>1</td>\n",
       "    </tr>\n",
       "    <tr>\n",
       "      <th>22</th>\n",
       "      <td>This is a very long book with a lot of characters.  I was very prepared to like this book as I am a fan of disaster novels.  Extinction Event is technically very well written but falls way short o...</td>\n",
       "      <td>0</td>\n",
       "    </tr>\n",
       "    <tr>\n",
       "      <th>23</th>\n",
       "      <td>King cave so awesome in the first book I wanted more romance.  Boy did this book made up for it.</td>\n",
       "      <td>1</td>\n",
       "    </tr>\n",
       "    <tr>\n",
       "      <th>26</th>\n",
       "      <td>The word Stinks for the App is the best word I could use on an open forum.  WSJ is great.  Easy to Read on my Mac.  The APP for Kindle fire stinks.  App for the Ipad much much better.  If you like...</td>\n",
       "      <td>0</td>\n",
       "    </tr>\n",
       "    <tr>\n",
       "      <th>37</th>\n",
       "      <td>Perhaps my rating is somewhat unfair. Let me start by saying that I am a huge Christopher Farnsworth fan!!!! I love and have all the Nathaniel Cade series. I may be guilty of not reading the promo...</td>\n",
       "      <td>0</td>\n",
       "    </tr>\n",
       "    <tr>\n",
       "      <th>38</th>\n",
       "      <td>\"Kneed by his dainty bride-to-be and left groaning on the floor. How, how could a woman who weighed less than one of his hunting dogs have felled him so effectively? So embarrassingly.\"So begins t...</td>\n",
       "      <td>1</td>\n",
       "    </tr>\n",
       "    <tr>\n",
       "      <th>50</th>\n",
       "      <td>I love the colorful images and the story is great UNTIL I get to the part where her pet is..... It will be very devastating to read to kids and will make some cry. It is not a story I would read t...</td>\n",
       "      <td>0</td>\n",
       "    </tr>\n",
       "    <tr>\n",
       "      <th>54</th>\n",
       "      <td>This book introduces you to the vital touch points of what is hot right in making money online. It explains what they are, where to find them, and how to get set up and started right away.</td>\n",
       "      <td>1</td>\n",
       "    </tr>\n",
       "  </tbody>\n",
       "</table>\n",
       "</div>"
      ],
      "text/plain": [
       "                                                                                                                                                                                                 reviewText  \\\n",
       "3   1 star for adults who think they'd like to read this book... don't bother. It's definitely geared toward younger kids. I'm not even going to say it's great for pre-teens or teens... It's a great w...   \n",
       "4   I admit I got the book because of the title. I have an obsession with Pride & Prejudice books, but this doesn't come anywhere close to the amazing original. It's definitely a fanfic, taking the na...   \n",
       "8   Main character, Gavin DeGrades takes us on his journey of discovering himself while trying to find a murderer. The author developed both romance and suspense quite well. BDSM was portrayed accurat...   \n",
       "22  This is a very long book with a lot of characters.  I was very prepared to like this book as I am a fan of disaster novels.  Extinction Event is technically very well written but falls way short o...   \n",
       "23                                                                                                         King cave so awesome in the first book I wanted more romance.  Boy did this book made up for it.   \n",
       "26  The word Stinks for the App is the best word I could use on an open forum.  WSJ is great.  Easy to Read on my Mac.  The APP for Kindle fire stinks.  App for the Ipad much much better.  If you like...   \n",
       "37  Perhaps my rating is somewhat unfair. Let me start by saying that I am a huge Christopher Farnsworth fan!!!! I love and have all the Nathaniel Cade series. I may be guilty of not reading the promo...   \n",
       "38  \"Kneed by his dainty bride-to-be and left groaning on the floor. How, how could a woman who weighed less than one of his hunting dogs have felled him so effectively? So embarrassingly.\"So begins t...   \n",
       "50  I love the colorful images and the story is great UNTIL I get to the part where her pet is..... It will be very devastating to read to kids and will make some cry. It is not a story I would read t...   \n",
       "54             This book introduces you to the vital touch points of what is hot right in making money online. It explains what they are, where to find them, and how to get set up and started right away.   \n",
       "\n",
       "    label_x  \n",
       "3         0  \n",
       "4         0  \n",
       "8         1  \n",
       "22        0  \n",
       "23        1  \n",
       "26        0  \n",
       "37        0  \n",
       "38        1  \n",
       "50        0  \n",
       "54        1  "
      ]
     },
     "execution_count": 31,
     "metadata": {},
     "output_type": "execute_result"
    }
   ],
   "source": [
    "df[['reviewText', 'label_x']][(df['error_emb'] == 0) & (df['error_ml'] == 1)].head(10)"
   ]
  },
  {
   "cell_type": "code",
   "execution_count": null,
   "metadata": {},
   "outputs": [],
   "source": []
  },
  {
   "cell_type": "code",
   "execution_count": 20,
   "metadata": {},
   "outputs": [],
   "source": [
    "df_temp = df[['reviewText', 'label_x']][(df['error_emb'] == 0) & (df['error_ml'] == 1)]"
   ]
  },
  {
   "cell_type": "code",
   "execution_count": 30,
   "metadata": {},
   "outputs": [
    {
     "data": {
      "text/plain": [
       "\"This is a very long book with a lot of characters.  I was very prepared to like this book as I am a fan of disaster novels.  Extinction Event is technically very well written but falls way short of how I consider a novel should be presented.  I found it to be telling me what is going on instead of showing me.  As such, it read like a statement of what is happening.  A lot of the same information was endlessly repeated just adding to the number of words and pages but not really giving much to the story.Another problem I had was in being able to tell the characters apart as in Gerald, Geraldine, Ron, Rod, Johannes, John, Jim, Jimmy, Petrus, Pieter, etc.  Also, characters just suddenly appeared as in the driver was suddenly named about 3/4 of the way through the novel.There was no conflict.  Great stories have conflict that winds up in the growth of the characters.  In this book it didn't happen.  The good guys were perfect.  Everyone who was told that Yellowstone was going to errupt agreed with the assessment.  Everyone agreed with all the decisions made.No detailed descriptions.  The food was wonderful, the mountain was beautiful, etc.  Nothing that could make you visualize the descriptions.Unfortunately,  I would give this book a two thumbs down if that rating was available.\""
      ]
     },
     "execution_count": 30,
     "metadata": {},
     "output_type": "execute_result"
    }
   ],
   "source": [
    "df_temp['reviewText'].iloc[3]"
   ]
  },
  {
   "cell_type": "code",
   "execution_count": 37,
   "metadata": {},
   "outputs": [
    {
     "name": "stdout",
     "output_type": "stream",
     "text": [
      "(7902, 7)\n",
      "(929, 7)\n",
      "(392, 7)\n",
      "(381, 7)\n",
      "(9604, 7)\n"
     ]
    }
   ],
   "source": [
    "print(df[(df.error_emb == 0) & (df.error_ml == 0)].shape)\n",
    "print(df[(df.error_emb == 0) & (df.error_ml == 1)].shape)\n",
    "print(df[(df.error_emb == 1) & (df.error_ml == 0)].shape)\n",
    "print(df[(df.error_emb == 1) & (df.error_ml == 1)].shape)\n",
    "print(df.shape)"
   ]
  },
  {
   "cell_type": "code",
   "execution_count": null,
   "metadata": {},
   "outputs": [],
   "source": []
  }
 ],
 "metadata": {
  "kernelspec": {
   "display_name": "Python 3",
   "language": "python",
   "name": "python3"
  },
  "language_info": {
   "codemirror_mode": {
    "name": "ipython",
    "version": 3
   },
   "file_extension": ".py",
   "mimetype": "text/x-python",
   "name": "python",
   "nbconvert_exporter": "python",
   "pygments_lexer": "ipython3",
   "version": "3.7.0"
  }
 },
 "nbformat": 4,
 "nbformat_minor": 2
}
